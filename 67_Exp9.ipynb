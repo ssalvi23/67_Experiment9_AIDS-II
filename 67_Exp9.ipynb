{
  "nbformat": 4,
  "nbformat_minor": 0,
  "metadata": {
    "colab": {
      "provenance": [],
      "include_colab_link": true
    },
    "kernelspec": {
      "name": "python3",
      "display_name": "Python 3"
    },
    "language_info": {
      "name": "python"
    }
  },
  "cells": [
    {
      "cell_type": "markdown",
      "metadata": {
        "id": "view-in-github",
        "colab_type": "text"
      },
      "source": [
        "<a href=\"https://colab.research.google.com/github/ssalvi23/67_Experiment9_AIDS-II/blob/main/67_Exp9.ipynb\" target=\"_parent\"><img src=\"https://colab.research.google.com/assets/colab-badge.svg\" alt=\"Open In Colab\"/></a>"
      ]
    },
    {
      "cell_type": "markdown",
      "source": [
        "**Experiment 9** : Implementation of Time-series data analytics for suitable application"
      ],
      "metadata": {
        "id": "ZL_R4X7Ok6Is"
      }
    },
    {
      "cell_type": "code",
      "execution_count": null,
      "metadata": {
        "id": "WBRKvOGYk3i6"
      },
      "outputs": [],
      "source": [
        "!pip install yfinance"
      ]
    },
    {
      "cell_type": "code",
      "source": [
        "import math\n",
        "import yfinance as yf\n",
        "import numpy as np\n",
        "import pandas as pd\n",
        "import matplotlib.pyplot as plt"
      ],
      "metadata": {
        "id": "mG8zvZE6llO7"
      },
      "execution_count": null,
      "outputs": []
    },
    {
      "cell_type": "code",
      "source": [
        "stock_data = yf.download('AAPL', start='2016-01-01', end='2021-10-01')\n",
        "stock_data"
      ],
      "metadata": {
        "colab": {
          "base_uri": "https://localhost:8080/",
          "height": 472
        },
        "id": "Ohf1ZrCDlqYa",
        "outputId": "285a276a-59a5-4189-b347-13aff35fca40"
      },
      "execution_count": null,
      "outputs": [
        {
          "output_type": "stream",
          "name": "stdout",
          "text": [
            "\r[*********************100%***********************]  1 of 1 completed\n"
          ]
        },
        {
          "output_type": "execute_result",
          "data": {
            "text/plain": [
              "                                 Open        High         Low       Close  \\\n",
              "Date                                                                        \n",
              "2016-01-04 00:00:00-05:00   25.652500   26.342501   25.500000   26.337500   \n",
              "2016-01-05 00:00:00-05:00   26.437500   26.462500   25.602501   25.677500   \n",
              "2016-01-06 00:00:00-05:00   25.139999   25.592501   24.967501   25.174999   \n",
              "2016-01-07 00:00:00-05:00   24.670000   25.032499   24.107500   24.112499   \n",
              "2016-01-08 00:00:00-05:00   24.637501   24.777500   24.190001   24.240000   \n",
              "...                               ...         ...         ...         ...   \n",
              "2021-09-24 00:00:00-04:00  145.660004  147.470001  145.559998  146.919998   \n",
              "2021-09-27 00:00:00-04:00  145.470001  145.960007  143.820007  145.369995   \n",
              "2021-09-28 00:00:00-04:00  143.250000  144.750000  141.690002  141.910004   \n",
              "2021-09-29 00:00:00-04:00  142.470001  144.449997  142.029999  142.830002   \n",
              "2021-09-30 00:00:00-04:00  143.660004  144.380005  141.279999  141.500000   \n",
              "\n",
              "                            Adj Close     Volume  \n",
              "Date                                              \n",
              "2016-01-04 00:00:00-05:00   24.151495  270597600  \n",
              "2016-01-05 00:00:00-05:00   23.546272  223164000  \n",
              "2016-01-06 00:00:00-05:00   23.085480  273829600  \n",
              "2016-01-07 00:00:00-05:00   22.111166  324377600  \n",
              "2016-01-08 00:00:00-05:00   22.228088  283192000  \n",
              "...                               ...        ...  \n",
              "2021-09-24 00:00:00-04:00  146.101303   53477900  \n",
              "2021-09-27 00:00:00-04:00  144.559937   74150700  \n",
              "2021-09-28 00:00:00-04:00  141.119232  108972300  \n",
              "2021-09-29 00:00:00-04:00  142.034119   74602000  \n",
              "2021-09-30 00:00:00-04:00  140.711517   89056700  \n",
              "\n",
              "[1447 rows x 6 columns]"
            ],
            "text/html": [
              "\n",
              "  <div id=\"df-23c546a6-bce2-43dc-9cbe-6d1edb604e1f\">\n",
              "    <div class=\"colab-df-container\">\n",
              "      <div>\n",
              "<style scoped>\n",
              "    .dataframe tbody tr th:only-of-type {\n",
              "        vertical-align: middle;\n",
              "    }\n",
              "\n",
              "    .dataframe tbody tr th {\n",
              "        vertical-align: top;\n",
              "    }\n",
              "\n",
              "    .dataframe thead th {\n",
              "        text-align: right;\n",
              "    }\n",
              "</style>\n",
              "<table border=\"1\" class=\"dataframe\">\n",
              "  <thead>\n",
              "    <tr style=\"text-align: right;\">\n",
              "      <th></th>\n",
              "      <th>Open</th>\n",
              "      <th>High</th>\n",
              "      <th>Low</th>\n",
              "      <th>Close</th>\n",
              "      <th>Adj Close</th>\n",
              "      <th>Volume</th>\n",
              "    </tr>\n",
              "    <tr>\n",
              "      <th>Date</th>\n",
              "      <th></th>\n",
              "      <th></th>\n",
              "      <th></th>\n",
              "      <th></th>\n",
              "      <th></th>\n",
              "      <th></th>\n",
              "    </tr>\n",
              "  </thead>\n",
              "  <tbody>\n",
              "    <tr>\n",
              "      <th>2016-01-04 00:00:00-05:00</th>\n",
              "      <td>25.652500</td>\n",
              "      <td>26.342501</td>\n",
              "      <td>25.500000</td>\n",
              "      <td>26.337500</td>\n",
              "      <td>24.151495</td>\n",
              "      <td>270597600</td>\n",
              "    </tr>\n",
              "    <tr>\n",
              "      <th>2016-01-05 00:00:00-05:00</th>\n",
              "      <td>26.437500</td>\n",
              "      <td>26.462500</td>\n",
              "      <td>25.602501</td>\n",
              "      <td>25.677500</td>\n",
              "      <td>23.546272</td>\n",
              "      <td>223164000</td>\n",
              "    </tr>\n",
              "    <tr>\n",
              "      <th>2016-01-06 00:00:00-05:00</th>\n",
              "      <td>25.139999</td>\n",
              "      <td>25.592501</td>\n",
              "      <td>24.967501</td>\n",
              "      <td>25.174999</td>\n",
              "      <td>23.085480</td>\n",
              "      <td>273829600</td>\n",
              "    </tr>\n",
              "    <tr>\n",
              "      <th>2016-01-07 00:00:00-05:00</th>\n",
              "      <td>24.670000</td>\n",
              "      <td>25.032499</td>\n",
              "      <td>24.107500</td>\n",
              "      <td>24.112499</td>\n",
              "      <td>22.111166</td>\n",
              "      <td>324377600</td>\n",
              "    </tr>\n",
              "    <tr>\n",
              "      <th>2016-01-08 00:00:00-05:00</th>\n",
              "      <td>24.637501</td>\n",
              "      <td>24.777500</td>\n",
              "      <td>24.190001</td>\n",
              "      <td>24.240000</td>\n",
              "      <td>22.228088</td>\n",
              "      <td>283192000</td>\n",
              "    </tr>\n",
              "    <tr>\n",
              "      <th>...</th>\n",
              "      <td>...</td>\n",
              "      <td>...</td>\n",
              "      <td>...</td>\n",
              "      <td>...</td>\n",
              "      <td>...</td>\n",
              "      <td>...</td>\n",
              "    </tr>\n",
              "    <tr>\n",
              "      <th>2021-09-24 00:00:00-04:00</th>\n",
              "      <td>145.660004</td>\n",
              "      <td>147.470001</td>\n",
              "      <td>145.559998</td>\n",
              "      <td>146.919998</td>\n",
              "      <td>146.101303</td>\n",
              "      <td>53477900</td>\n",
              "    </tr>\n",
              "    <tr>\n",
              "      <th>2021-09-27 00:00:00-04:00</th>\n",
              "      <td>145.470001</td>\n",
              "      <td>145.960007</td>\n",
              "      <td>143.820007</td>\n",
              "      <td>145.369995</td>\n",
              "      <td>144.559937</td>\n",
              "      <td>74150700</td>\n",
              "    </tr>\n",
              "    <tr>\n",
              "      <th>2021-09-28 00:00:00-04:00</th>\n",
              "      <td>143.250000</td>\n",
              "      <td>144.750000</td>\n",
              "      <td>141.690002</td>\n",
              "      <td>141.910004</td>\n",
              "      <td>141.119232</td>\n",
              "      <td>108972300</td>\n",
              "    </tr>\n",
              "    <tr>\n",
              "      <th>2021-09-29 00:00:00-04:00</th>\n",
              "      <td>142.470001</td>\n",
              "      <td>144.449997</td>\n",
              "      <td>142.029999</td>\n",
              "      <td>142.830002</td>\n",
              "      <td>142.034119</td>\n",
              "      <td>74602000</td>\n",
              "    </tr>\n",
              "    <tr>\n",
              "      <th>2021-09-30 00:00:00-04:00</th>\n",
              "      <td>143.660004</td>\n",
              "      <td>144.380005</td>\n",
              "      <td>141.279999</td>\n",
              "      <td>141.500000</td>\n",
              "      <td>140.711517</td>\n",
              "      <td>89056700</td>\n",
              "    </tr>\n",
              "  </tbody>\n",
              "</table>\n",
              "<p>1447 rows × 6 columns</p>\n",
              "</div>\n",
              "      <button class=\"colab-df-convert\" onclick=\"convertToInteractive('df-23c546a6-bce2-43dc-9cbe-6d1edb604e1f')\"\n",
              "              title=\"Convert this dataframe to an interactive table.\"\n",
              "              style=\"display:none;\">\n",
              "        \n",
              "  <svg xmlns=\"http://www.w3.org/2000/svg\" height=\"24px\"viewBox=\"0 0 24 24\"\n",
              "       width=\"24px\">\n",
              "    <path d=\"M0 0h24v24H0V0z\" fill=\"none\"/>\n",
              "    <path d=\"M18.56 5.44l.94 2.06.94-2.06 2.06-.94-2.06-.94-.94-2.06-.94 2.06-2.06.94zm-11 1L8.5 8.5l.94-2.06 2.06-.94-2.06-.94L8.5 2.5l-.94 2.06-2.06.94zm10 10l.94 2.06.94-2.06 2.06-.94-2.06-.94-.94-2.06-.94 2.06-2.06.94z\"/><path d=\"M17.41 7.96l-1.37-1.37c-.4-.4-.92-.59-1.43-.59-.52 0-1.04.2-1.43.59L10.3 9.45l-7.72 7.72c-.78.78-.78 2.05 0 2.83L4 21.41c.39.39.9.59 1.41.59.51 0 1.02-.2 1.41-.59l7.78-7.78 2.81-2.81c.8-.78.8-2.07 0-2.86zM5.41 20L4 18.59l7.72-7.72 1.47 1.35L5.41 20z\"/>\n",
              "  </svg>\n",
              "      </button>\n",
              "      \n",
              "  <style>\n",
              "    .colab-df-container {\n",
              "      display:flex;\n",
              "      flex-wrap:wrap;\n",
              "      gap: 12px;\n",
              "    }\n",
              "\n",
              "    .colab-df-convert {\n",
              "      background-color: #E8F0FE;\n",
              "      border: none;\n",
              "      border-radius: 50%;\n",
              "      cursor: pointer;\n",
              "      display: none;\n",
              "      fill: #1967D2;\n",
              "      height: 32px;\n",
              "      padding: 0 0 0 0;\n",
              "      width: 32px;\n",
              "    }\n",
              "\n",
              "    .colab-df-convert:hover {\n",
              "      background-color: #E2EBFA;\n",
              "      box-shadow: 0px 1px 2px rgba(60, 64, 67, 0.3), 0px 1px 3px 1px rgba(60, 64, 67, 0.15);\n",
              "      fill: #174EA6;\n",
              "    }\n",
              "\n",
              "    [theme=dark] .colab-df-convert {\n",
              "      background-color: #3B4455;\n",
              "      fill: #D2E3FC;\n",
              "    }\n",
              "\n",
              "    [theme=dark] .colab-df-convert:hover {\n",
              "      background-color: #434B5C;\n",
              "      box-shadow: 0px 1px 3px 1px rgba(0, 0, 0, 0.15);\n",
              "      filter: drop-shadow(0px 1px 2px rgba(0, 0, 0, 0.3));\n",
              "      fill: #FFFFFF;\n",
              "    }\n",
              "  </style>\n",
              "\n",
              "      <script>\n",
              "        const buttonEl =\n",
              "          document.querySelector('#df-23c546a6-bce2-43dc-9cbe-6d1edb604e1f button.colab-df-convert');\n",
              "        buttonEl.style.display =\n",
              "          google.colab.kernel.accessAllowed ? 'block' : 'none';\n",
              "\n",
              "        async function convertToInteractive(key) {\n",
              "          const element = document.querySelector('#df-23c546a6-bce2-43dc-9cbe-6d1edb604e1f');\n",
              "          const dataTable =\n",
              "            await google.colab.kernel.invokeFunction('convertToInteractive',\n",
              "                                                     [key], {});\n",
              "          if (!dataTable) return;\n",
              "\n",
              "          const docLinkHtml = 'Like what you see? Visit the ' +\n",
              "            '<a target=\"_blank\" href=https://colab.research.google.com/notebooks/data_table.ipynb>data table notebook</a>'\n",
              "            + ' to learn more about interactive tables.';\n",
              "          element.innerHTML = '';\n",
              "          dataTable['output_type'] = 'display_data';\n",
              "          await google.colab.output.renderOutput(dataTable, element);\n",
              "          const docLink = document.createElement('div');\n",
              "          docLink.innerHTML = docLinkHtml;\n",
              "          element.appendChild(docLink);\n",
              "        }\n",
              "      </script>\n",
              "    </div>\n",
              "  </div>\n",
              "  "
            ]
          },
          "metadata": {},
          "execution_count": 3
        }
      ]
    },
    {
      "cell_type": "code",
      "source": [
        "plt.figure(figsize=(15, 8))\n",
        "plt.title('Stock Prices History')\n",
        "plt.plot(stock_data['Close'])\n",
        "plt.xlabel('Date')\n",
        "plt.ylabel('Prices ($)')"
      ],
      "metadata": {
        "colab": {
          "base_uri": "https://localhost:8080/",
          "height": 530
        },
        "id": "WEBjKl8iltDq",
        "outputId": "e67c1fa7-7233-44e5-a6f5-dab4c219eb31"
      },
      "execution_count": null,
      "outputs": [
        {
          "output_type": "execute_result",
          "data": {
            "text/plain": [
              "Text(0, 0.5, 'Prices ($)')"
            ]
          },
          "metadata": {},
          "execution_count": 4
        },
        {
          "output_type": "display_data",
          "data": {
            "text/plain": [
              "<Figure size 1080x576 with 1 Axes>"
            ],
            "image/png": "[encoded data removed]"
          },
          "metadata": {
            "needs_background": "light"
          }
        }
      ]
    },
    {
      "cell_type": "markdown",
      "source": [
        "From the above graph, we can conclude that the prices of the stock over the year has increased."
      ],
      "metadata": {
        "id": "WYf2i7whmKf6"
      }
    },
    {
      "cell_type": "code",
      "source": [
        "stock_data = yf.download('AAPL', start='2018-01-01', end='2018-12-31')\n",
        "stock_data"
      ],
      "metadata": {
        "colab": {
          "base_uri": "https://localhost:8080/",
          "height": 472
        },
        "id": "Yk-_98TfwJDQ",
        "outputId": "8222838c-a888-48f9-9c47-3876d0fa70df"
      },
      "execution_count": null,
      "outputs": [
        {
          "output_type": "stream",
          "name": "stdout",
          "text": [
            "\r[*********************100%***********************]  1 of 1 completed\n"
          ]
        },
        {
          "output_type": "execute_result",
          "data": {
            "text/plain": [
              "                                Open       High        Low      Close  \\\n",
              "Date                                                                    \n",
              "2018-01-02 00:00:00-05:00  42.540001  43.075001  42.314999  43.064999   \n",
              "2018-01-03 00:00:00-05:00  43.132500  43.637501  42.990002  43.057499   \n",
              "2018-01-04 00:00:00-05:00  43.134998  43.367500  43.020000  43.257500   \n",
              "2018-01-05 00:00:00-05:00  43.360001  43.842499  43.262501  43.750000   \n",
              "2018-01-08 00:00:00-05:00  43.587502  43.902500  43.482498  43.587502   \n",
              "...                              ...        ...        ...        ...   \n",
              "2018-12-21 00:00:00-05:00  39.215000  39.540001  37.407501  37.682499   \n",
              "2018-12-24 00:00:00-05:00  37.037498  37.887501  36.647499  36.707500   \n",
              "2018-12-26 00:00:00-05:00  37.075001  39.307499  36.680000  39.292500   \n",
              "2018-12-27 00:00:00-05:00  38.959999  39.192501  37.517502  39.037498   \n",
              "2018-12-28 00:00:00-05:00  39.375000  39.630001  38.637501  39.057499   \n",
              "\n",
              "                           Adj Close     Volume  \n",
              "Date                                             \n",
              "2018-01-02 00:00:00-05:00  41.018433  102223600  \n",
              "2018-01-03 00:00:00-05:00  41.011276  118071600  \n",
              "2018-01-04 00:00:00-05:00  41.201771   89738400  \n",
              "2018-01-05 00:00:00-05:00  41.670879   94640000  \n",
              "2018-01-08 00:00:00-05:00  41.516094   82271200  \n",
              "...                              ...        ...  \n",
              "2018-12-21 00:00:00-05:00  36.430573  382978400  \n",
              "2018-12-24 00:00:00-05:00  35.487968  148676800  \n",
              "2018-12-26 00:00:00-05:00  37.987083  234330000  \n",
              "2018-12-27 00:00:00-05:00  37.740551  212468400  \n",
              "2018-12-28 00:00:00-05:00  37.759884  169165600  \n",
              "\n",
              "[250 rows x 6 columns]"
            ],
            "text/html": [
              "\n",
              "  <div id=\"df-8a0d871c-dfd7-4ca8-a0ee-bcc027d8335c\">\n",
              "    <div class=\"colab-df-container\">\n",
              "      <div>\n",
              "<style scoped>\n",
              "    .dataframe tbody tr th:only-of-type {\n",
              "        vertical-align: middle;\n",
              "    }\n",
              "\n",
              "    .dataframe tbody tr th {\n",
              "        vertical-align: top;\n",
              "    }\n",
              "\n",
              "    .dataframe thead th {\n",
              "        text-align: right;\n",
              "    }\n",
              "</style>\n",
              "<table border=\"1\" class=\"dataframe\">\n",
              "  <thead>\n",
              "    <tr style=\"text-align: right;\">\n",
              "      <th></th>\n",
              "      <th>Open</th>\n",
              "      <th>High</th>\n",
              "      <th>Low</th>\n",
              "      <th>Close</th>\n",
              "      <th>Adj Close</th>\n",
              "      <th>Volume</th>\n",
              "    </tr>\n",
              "    <tr>\n",
              "      <th>Date</th>\n",
              "      <th></th>\n",
              "      <th></th>\n",
              "      <th></th>\n",
              "      <th></th>\n",
              "      <th></th>\n",
              "      <th></th>\n",
              "    </tr>\n",
              "  </thead>\n",
              "  <tbody>\n",
              "    <tr>\n",
              "      <th>2018-01-02 00:00:00-05:00</th>\n",
              "      <td>42.540001</td>\n",
              "      <td>43.075001</td>\n",
              "      <td>42.314999</td>\n",
              "      <td>43.064999</td>\n",
              "      <td>41.018433</td>\n",
              "      <td>102223600</td>\n",
              "    </tr>\n",
              "    <tr>\n",
              "      <th>2018-01-03 00:00:00-05:00</th>\n",
              "      <td>43.132500</td>\n",
              "      <td>43.637501</td>\n",
              "      <td>42.990002</td>\n",
              "      <td>43.057499</td>\n",
              "      <td>41.011276</td>\n",
              "      <td>118071600</td>\n",
              "    </tr>\n",
              "    <tr>\n",
              "      <th>2018-01-04 00:00:00-05:00</th>\n",
              "      <td>43.134998</td>\n",
              "      <td>43.367500</td>\n",
              "      <td>43.020000</td>\n",
              "      <td>43.257500</td>\n",
              "      <td>41.201771</td>\n",
              "      <td>89738400</td>\n",
              "    </tr>\n",
              "    <tr>\n",
              "      <th>2018-01-05 00:00:00-05:00</th>\n",
              "      <td>43.360001</td>\n",
              "      <td>43.842499</td>\n",
              "      <td>43.262501</td>\n",
              "      <td>43.750000</td>\n",
              "      <td>41.670879</td>\n",
              "      <td>94640000</td>\n",
              "    </tr>\n",
              "    <tr>\n",
              "      <th>2018-01-08 00:00:00-05:00</th>\n",
              "      <td>43.587502</td>\n",
              "      <td>43.902500</td>\n",
              "      <td>43.482498</td>\n",
              "      <td>43.587502</td>\n",
              "      <td>41.516094</td>\n",
              "      <td>82271200</td>\n",
              "    </tr>\n",
              "    <tr>\n",
              "      <th>...</th>\n",
              "      <td>...</td>\n",
              "      <td>...</td>\n",
              "      <td>...</td>\n",
              "      <td>...</td>\n",
              "      <td>...</td>\n",
              "      <td>...</td>\n",
              "    </tr>\n",
              "    <tr>\n",
              "      <th>2018-12-21 00:00:00-05:00</th>\n",
              "      <td>39.215000</td>\n",
              "      <td>39.540001</td>\n",
              "      <td>37.407501</td>\n",
              "      <td>37.682499</td>\n",
              "      <td>36.430573</td>\n",
              "      <td>382978400</td>\n",
              "    </tr>\n",
              "    <tr>\n",
              "      <th>2018-12-24 00:00:00-05:00</th>\n",
              "      <td>37.037498</td>\n",
              "      <td>37.887501</td>\n",
              "      <td>36.647499</td>\n",
              "      <td>36.707500</td>\n",
              "      <td>35.487968</td>\n",
              "      <td>148676800</td>\n",
              "    </tr>\n",
              "    <tr>\n",
              "      <th>2018-12-26 00:00:00-05:00</th>\n",
              "      <td>37.075001</td>\n",
              "      <td>39.307499</td>\n",
              "      <td>36.680000</td>\n",
              "      <td>39.292500</td>\n",
              "      <td>37.987083</td>\n",
              "      <td>234330000</td>\n",
              "    </tr>\n",
              "    <tr>\n",
              "      <th>2018-12-27 00:00:00-05:00</th>\n",
              "      <td>38.959999</td>\n",
              "      <td>39.192501</td>\n",
              "      <td>37.517502</td>\n",
              "      <td>39.037498</td>\n",
              "      <td>37.740551</td>\n",
              "      <td>212468400</td>\n",
              "    </tr>\n",
              "    <tr>\n",
              "      <th>2018-12-28 00:00:00-05:00</th>\n",
              "      <td>39.375000</td>\n",
              "      <td>39.630001</td>\n",
              "      <td>38.637501</td>\n",
              "      <td>39.057499</td>\n",
              "      <td>37.759884</td>\n",
              "      <td>169165600</td>\n",
              "    </tr>\n",
              "  </tbody>\n",
              "</table>\n",
              "<p>250 rows × 6 columns</p>\n",
              "</div>\n",
              "      <button class=\"colab-df-convert\" onclick=\"convertToInteractive('df-8a0d871c-dfd7-4ca8-a0ee-bcc027d8335c')\"\n",
              "              title=\"Convert this dataframe to an interactive table.\"\n",
              "              style=\"display:none;\">\n",
              "        \n",
              "  <svg xmlns=\"http://www.w3.org/2000/svg\" height=\"24px\"viewBox=\"0 0 24 24\"\n",
              "       width=\"24px\">\n",
              "    <path d=\"M0 0h24v24H0V0z\" fill=\"none\"/>\n",
              "    <path d=\"M18.56 5.44l.94 2.06.94-2.06 2.06-.94-2.06-.94-.94-2.06-.94 2.06-2.06.94zm-11 1L8.5 8.5l.94-2.06 2.06-.94-2.06-.94L8.5 2.5l-.94 2.06-2.06.94zm10 10l.94 2.06.94-2.06 2.06-.94-2.06-.94-.94-2.06-.94 2.06-2.06.94z\"/><path d=\"M17.41 7.96l-1.37-1.37c-.4-.4-.92-.59-1.43-.59-.52 0-1.04.2-1.43.59L10.3 9.45l-7.72 7.72c-.78.78-.78 2.05 0 2.83L4 21.41c.39.39.9.59 1.41.59.51 0 1.02-.2 1.41-.59l7.78-7.78 2.81-2.81c.8-.78.8-2.07 0-2.86zM5.41 20L4 18.59l7.72-7.72 1.47 1.35L5.41 20z\"/>\n",
              "  </svg>\n",
              "      </button>\n",
              "      \n",
              "  <style>\n",
              "    .colab-df-container {\n",
              "      display:flex;\n",
              "      flex-wrap:wrap;\n",
              "      gap: 12px;\n",
              "    }\n",
              "\n",
              "    .colab-df-convert {\n",
              "      background-color: #E8F0FE;\n",
              "      border: none;\n",
              "      border-radius: 50%;\n",
              "      cursor: pointer;\n",
              "      display: none;\n",
              "      fill: #1967D2;\n",
              "      height: 32px;\n",
              "      padding: 0 0 0 0;\n",
              "      width: 32px;\n",
              "    }\n",
              "\n",
              "    .colab-df-convert:hover {\n",
              "      background-color: #E2EBFA;\n",
              "      box-shadow: 0px 1px 2px rgba(60, 64, 67, 0.3), 0px 1px 3px 1px rgba(60, 64, 67, 0.15);\n",
              "      fill: #174EA6;\n",
              "    }\n",
              "\n",
              "    [theme=dark] .colab-df-convert {\n",
              "      background-color: #3B4455;\n",
              "      fill: #D2E3FC;\n",
              "    }\n",
              "\n",
              "    [theme=dark] .colab-df-convert:hover {\n",
              "      background-color: #434B5C;\n",
              "      box-shadow: 0px 1px 3px 1px rgba(0, 0, 0, 0.15);\n",
              "      filter: drop-shadow(0px 1px 2px rgba(0, 0, 0, 0.3));\n",
              "      fill: #FFFFFF;\n",
              "    }\n",
              "  </style>\n",
              "\n",
              "      <script>\n",
              "        const buttonEl =\n",
              "          document.querySelector('#df-8a0d871c-dfd7-4ca8-a0ee-bcc027d8335c button.colab-df-convert');\n",
              "        buttonEl.style.display =\n",
              "          google.colab.kernel.accessAllowed ? 'block' : 'none';\n",
              "\n",
              "        async function convertToInteractive(key) {\n",
              "          const element = document.querySelector('#df-8a0d871c-dfd7-4ca8-a0ee-bcc027d8335c');\n",
              "          const dataTable =\n",
              "            await google.colab.kernel.invokeFunction('convertToInteractive',\n",
              "                                                     [key], {});\n",
              "          if (!dataTable) return;\n",
              "\n",
              "          const docLinkHtml = 'Like what you see? Visit the ' +\n",
              "            '<a target=\"_blank\" href=https://colab.research.google.com/notebooks/data_table.ipynb>data table notebook</a>'\n",
              "            + ' to learn more about interactive tables.';\n",
              "          element.innerHTML = '';\n",
              "          dataTable['output_type'] = 'display_data';\n",
              "          await google.colab.output.renderOutput(dataTable, element);\n",
              "          const docLink = document.createElement('div');\n",
              "          docLink.innerHTML = docLinkHtml;\n",
              "          element.appendChild(docLink);\n",
              "        }\n",
              "      </script>\n",
              "    </div>\n",
              "  </div>\n",
              "  "
            ]
          },
          "metadata": {},
          "execution_count": 16
        }
      ]
    },
    {
      "cell_type": "code",
      "source": [
        "plt.figure(figsize=(15, 8))\n",
        "plt.title('Stock Prices History')\n",
        "plt.plot(stock_data['Close'])\n",
        "plt.xlabel('Date')\n",
        "plt.ylabel('Prices ($)')"
      ],
      "metadata": {
        "colab": {
          "base_uri": "https://localhost:8080/",
          "height": 530
        },
        "id": "wSJaPR6PwNgx",
        "outputId": "d0b38465-85a0-4f97-9389-0c7fe9f93d00"
      },
      "execution_count": null,
      "outputs": [
        {
          "output_type": "execute_result",
          "data": {
            "text/plain": [
              "Text(0, 0.5, 'Prices ($)')"
            ]
          },
          "metadata": {},
          "execution_count": 17
        },
        {
          "output_type": "display_data",
          "data": {
            "text/plain": [
              "<Figure size 1080x576 with 1 Axes>"
            ],
            "image/png": "[encoded data removed]"
          },
          "metadata": {
            "needs_background": "light"
          }
        }
      ]
    },
    {
      "cell_type": "code",
      "source": [
        "plt.figure(figsize=(15, 8))\n",
        "plt.title('Stock Prices History')\n",
        "plt.boxplot(stock_data['Close'])\n",
        "plt.xlabel('Date')\n",
        "plt.ylabel('Prices ($)')"
      ],
      "metadata": {
        "colab": {
          "base_uri": "https://localhost:8080/",
          "height": 530
        },
        "id": "VSmqLqI7wOfr",
        "outputId": "6978825e-2f9d-4da7-abff-e00ca2b4b890"
      },
      "execution_count": null,
      "outputs": [
        {
          "output_type": "execute_result",
          "data": {
            "text/plain": [
              "Text(0, 0.5, 'Prices ($)')"
            ]
          },
          "metadata": {},
          "execution_count": 18
        },
        {
          "output_type": "display_data",
          "data": {
            "text/plain": [
              "<Figure size 1080x576 with 1 Axes>"
            ],
            "image/png": "[encoded data removed]"
          },
          "metadata": {
            "needs_background": "light"
          }
        }
      ]
    },
    {
      "cell_type": "code",
      "source": [
        "stock_data = yf.download('AAPL', start='2019-01-01', end='2019-12-31')\n",
        "stock_data"
      ],
      "metadata": {
        "colab": {
          "base_uri": "https://localhost:8080/",
          "height": 472
        },
        "id": "AQPQAmv3vT05",
        "outputId": "498b86f3-37ca-42a0-bc4b-a8b3d79e8620"
      },
      "execution_count": null,
      "outputs": [
        {
          "output_type": "stream",
          "name": "stdout",
          "text": [
            "\r[*********************100%***********************]  1 of 1 completed\n"
          ]
        },
        {
          "output_type": "execute_result",
          "data": {
            "text/plain": [
              "                                Open       High        Low      Close  \\\n",
              "Date                                                                    \n",
              "2019-01-02 00:00:00-05:00  38.722500  39.712502  38.557499  39.480000   \n",
              "2019-01-03 00:00:00-05:00  35.994999  36.430000  35.500000  35.547501   \n",
              "2019-01-04 00:00:00-05:00  36.132500  37.137501  35.950001  37.064999   \n",
              "2019-01-07 00:00:00-05:00  37.174999  37.207500  36.474998  36.982498   \n",
              "2019-01-08 00:00:00-05:00  37.389999  37.955002  37.130001  37.687500   \n",
              "...                              ...        ...        ...        ...   \n",
              "2019-12-23 00:00:00-05:00  70.132500  71.062500  70.092499  71.000000   \n",
              "2019-12-24 00:00:00-05:00  71.172501  71.222504  70.730003  71.067497   \n",
              "2019-12-26 00:00:00-05:00  71.205002  72.495003  71.175003  72.477501   \n",
              "2019-12-27 00:00:00-05:00  72.779999  73.492500  72.029999  72.449997   \n",
              "2019-12-30 00:00:00-05:00  72.364998  73.172501  71.305000  72.879997   \n",
              "\n",
              "                           Adj Close     Volume  \n",
              "Date                                             \n",
              "2019-01-02 00:00:00-05:00  38.168346  148158800  \n",
              "2019-01-03 00:00:00-05:00  34.366501  365248800  \n",
              "2019-01-04 00:00:00-05:00  35.833588  234428400  \n",
              "2019-01-07 00:00:00-05:00  35.753826  219111200  \n",
              "2019-01-08 00:00:00-05:00  36.435406  164101200  \n",
              "...                              ...        ...  \n",
              "2019-12-23 00:00:00-05:00  69.672493   98572000  \n",
              "2019-12-24 00:00:00-05:00  69.738731   48478800  \n",
              "2019-12-26 00:00:00-05:00  71.122383   93121200  \n",
              "2019-12-27 00:00:00-05:00  71.095375  146266000  \n",
              "2019-12-30 00:00:00-05:00  71.517334  144114400  \n",
              "\n",
              "[251 rows x 6 columns]"
            ],
            "text/html": [
              "\n",
              "  <div id=\"df-abb0cb5d-c8f2-48e7-b83a-644164957ea2\">\n",
              "    <div class=\"colab-df-container\">\n",
              "      <div>\n",
              "<style scoped>\n",
              "    .dataframe tbody tr th:only-of-type {\n",
              "        vertical-align: middle;\n",
              "    }\n",
              "\n",
              "    .dataframe tbody tr th {\n",
              "        vertical-align: top;\n",
              "    }\n",
              "\n",
              "    .dataframe thead th {\n",
              "        text-align: right;\n",
              "    }\n",
              "</style>\n",
              "<table border=\"1\" class=\"dataframe\">\n",
              "  <thead>\n",
              "    <tr style=\"text-align: right;\">\n",
              "      <th></th>\n",
              "      <th>Open</th>\n",
              "      <th>High</th>\n",
              "      <th>Low</th>\n",
              "      <th>Close</th>\n",
              "      <th>Adj Close</th>\n",
              "      <th>Volume</th>\n",
              "    </tr>\n",
              "    <tr>\n",
              "      <th>Date</th>\n",
              "      <th></th>\n",
              "      <th></th>\n",
              "      <th></th>\n",
              "      <th></th>\n",
              "      <th></th>\n",
              "      <th></th>\n",
              "    </tr>\n",
              "  </thead>\n",
              "  <tbody>\n",
              "    <tr>\n",
              "      <th>2019-01-02 00:00:00-05:00</th>\n",
              "      <td>38.722500</td>\n",
              "      <td>39.712502</td>\n",
              "      <td>38.557499</td>\n",
              "      <td>39.480000</td>\n",
              "      <td>38.168346</td>\n",
              "      <td>148158800</td>\n",
              "    </tr>\n",
              "    <tr>\n",
              "      <th>2019-01-03 00:00:00-05:00</th>\n",
              "      <td>35.994999</td>\n",
              "      <td>36.430000</td>\n",
              "      <td>35.500000</td>\n",
              "      <td>35.547501</td>\n",
              "      <td>34.366501</td>\n",
              "      <td>365248800</td>\n",
              "    </tr>\n",
              "    <tr>\n",
              "      <th>2019-01-04 00:00:00-05:00</th>\n",
              "      <td>36.132500</td>\n",
              "      <td>37.137501</td>\n",
              "      <td>35.950001</td>\n",
              "      <td>37.064999</td>\n",
              "      <td>35.833588</td>\n",
              "      <td>234428400</td>\n",
              "    </tr>\n",
              "    <tr>\n",
              "      <th>2019-01-07 00:00:00-05:00</th>\n",
              "      <td>37.174999</td>\n",
              "      <td>37.207500</td>\n",
              "      <td>36.474998</td>\n",
              "      <td>36.982498</td>\n",
              "      <td>35.753826</td>\n",
              "      <td>219111200</td>\n",
              "    </tr>\n",
              "    <tr>\n",
              "      <th>2019-01-08 00:00:00-05:00</th>\n",
              "      <td>37.389999</td>\n",
              "      <td>37.955002</td>\n",
              "      <td>37.130001</td>\n",
              "      <td>37.687500</td>\n",
              "      <td>36.435406</td>\n",
              "      <td>164101200</td>\n",
              "    </tr>\n",
              "    <tr>\n",
              "      <th>...</th>\n",
              "      <td>...</td>\n",
              "      <td>...</td>\n",
              "      <td>...</td>\n",
              "      <td>...</td>\n",
              "      <td>...</td>\n",
              "      <td>...</td>\n",
              "    </tr>\n",
              "    <tr>\n",
              "      <th>2019-12-23 00:00:00-05:00</th>\n",
              "      <td>70.132500</td>\n",
              "      <td>71.062500</td>\n",
              "      <td>70.092499</td>\n",
              "      <td>71.000000</td>\n",
              "      <td>69.672493</td>\n",
              "      <td>98572000</td>\n",
              "    </tr>\n",
              "    <tr>\n",
              "      <th>2019-12-24 00:00:00-05:00</th>\n",
              "      <td>71.172501</td>\n",
              "      <td>71.222504</td>\n",
              "      <td>70.730003</td>\n",
              "      <td>71.067497</td>\n",
              "      <td>69.738731</td>\n",
              "      <td>48478800</td>\n",
              "    </tr>\n",
              "    <tr>\n",
              "      <th>2019-12-26 00:00:00-05:00</th>\n",
              "      <td>71.205002</td>\n",
              "      <td>72.495003</td>\n",
              "      <td>71.175003</td>\n",
              "      <td>72.477501</td>\n",
              "      <td>71.122383</td>\n",
              "      <td>93121200</td>\n",
              "    </tr>\n",
              "    <tr>\n",
              "      <th>2019-12-27 00:00:00-05:00</th>\n",
              "      <td>72.779999</td>\n",
              "      <td>73.492500</td>\n",
              "      <td>72.029999</td>\n",
              "      <td>72.449997</td>\n",
              "      <td>71.095375</td>\n",
              "      <td>146266000</td>\n",
              "    </tr>\n",
              "    <tr>\n",
              "      <th>2019-12-30 00:00:00-05:00</th>\n",
              "      <td>72.364998</td>\n",
              "      <td>73.172501</td>\n",
              "      <td>71.305000</td>\n",
              "      <td>72.879997</td>\n",
              "      <td>71.517334</td>\n",
              "      <td>144114400</td>\n",
              "    </tr>\n",
              "  </tbody>\n",
              "</table>\n",
              "<p>251 rows × 6 columns</p>\n",
              "</div>\n",
              "      <button class=\"colab-df-convert\" onclick=\"convertToInteractive('df-abb0cb5d-c8f2-48e7-b83a-644164957ea2')\"\n",
              "              title=\"Convert this dataframe to an interactive table.\"\n",
              "              style=\"display:none;\">\n",
              "        \n",
              "  <svg xmlns=\"http://www.w3.org/2000/svg\" height=\"24px\"viewBox=\"0 0 24 24\"\n",
              "       width=\"24px\">\n",
              "    <path d=\"M0 0h24v24H0V0z\" fill=\"none\"/>\n",
              "    <path d=\"M18.56 5.44l.94 2.06.94-2.06 2.06-.94-2.06-.94-.94-2.06-.94 2.06-2.06.94zm-11 1L8.5 8.5l.94-2.06 2.06-.94-2.06-.94L8.5 2.5l-.94 2.06-2.06.94zm10 10l.94 2.06.94-2.06 2.06-.94-2.06-.94-.94-2.06-.94 2.06-2.06.94z\"/><path d=\"M17.41 7.96l-1.37-1.37c-.4-.4-.92-.59-1.43-.59-.52 0-1.04.2-1.43.59L10.3 9.45l-7.72 7.72c-.78.78-.78 2.05 0 2.83L4 21.41c.39.39.9.59 1.41.59.51 0 1.02-.2 1.41-.59l7.78-7.78 2.81-2.81c.8-.78.8-2.07 0-2.86zM5.41 20L4 18.59l7.72-7.72 1.47 1.35L5.41 20z\"/>\n",
              "  </svg>\n",
              "      </button>\n",
              "      \n",
              "  <style>\n",
              "    .colab-df-container {\n",
              "      display:flex;\n",
              "      flex-wrap:wrap;\n",
              "      gap: 12px;\n",
              "    }\n",
              "\n",
              "    .colab-df-convert {\n",
              "      background-color: #E8F0FE;\n",
              "      border: none;\n",
              "      border-radius: 50%;\n",
              "      cursor: pointer;\n",
              "      display: none;\n",
              "      fill: #1967D2;\n",
              "      height: 32px;\n",
              "      padding: 0 0 0 0;\n",
              "      width: 32px;\n",
              "    }\n",
              "\n",
              "    .colab-df-convert:hover {\n",
              "      background-color: #E2EBFA;\n",
              "      box-shadow: 0px 1px 2px rgba(60, 64, 67, 0.3), 0px 1px 3px 1px rgba(60, 64, 67, 0.15);\n",
              "      fill: #174EA6;\n",
              "    }\n",
              "\n",
              "    [theme=dark] .colab-df-convert {\n",
              "      background-color: #3B4455;\n",
              "      fill: #D2E3FC;\n",
              "    }\n",
              "\n",
              "    [theme=dark] .colab-df-convert:hover {\n",
              "      background-color: #434B5C;\n",
              "      box-shadow: 0px 1px 3px 1px rgba(0, 0, 0, 0.15);\n",
              "      filter: drop-shadow(0px 1px 2px rgba(0, 0, 0, 0.3));\n",
              "      fill: #FFFFFF;\n",
              "    }\n",
              "  </style>\n",
              "\n",
              "      <script>\n",
              "        const buttonEl =\n",
              "          document.querySelector('#df-abb0cb5d-c8f2-48e7-b83a-644164957ea2 button.colab-df-convert');\n",
              "        buttonEl.style.display =\n",
              "          google.colab.kernel.accessAllowed ? 'block' : 'none';\n",
              "\n",
              "        async function convertToInteractive(key) {\n",
              "          const element = document.querySelector('#df-abb0cb5d-c8f2-48e7-b83a-644164957ea2');\n",
              "          const dataTable =\n",
              "            await google.colab.kernel.invokeFunction('convertToInteractive',\n",
              "                                                     [key], {});\n",
              "          if (!dataTable) return;\n",
              "\n",
              "          const docLinkHtml = 'Like what you see? Visit the ' +\n",
              "            '<a target=\"_blank\" href=https://colab.research.google.com/notebooks/data_table.ipynb>data table notebook</a>'\n",
              "            + ' to learn more about interactive tables.';\n",
              "          element.innerHTML = '';\n",
              "          dataTable['output_type'] = 'display_data';\n",
              "          await google.colab.output.renderOutput(dataTable, element);\n",
              "          const docLink = document.createElement('div');\n",
              "          docLink.innerHTML = docLinkHtml;\n",
              "          element.appendChild(docLink);\n",
              "        }\n",
              "      </script>\n",
              "    </div>\n",
              "  </div>\n",
              "  "
            ]
          },
          "metadata": {},
          "execution_count": 10
        }
      ]
    },
    {
      "cell_type": "code",
      "source": [
        "plt.figure(figsize=(15, 8))\n",
        "plt.title('Stock Prices History')\n",
        "plt.plot(stock_data['Close'])\n",
        "plt.xlabel('Date')\n",
        "plt.ylabel('Prices ($)')"
      ],
      "metadata": {
        "colab": {
          "base_uri": "https://localhost:8080/",
          "height": 530
        },
        "id": "kFpwSj9EuQBp",
        "outputId": "05ae4cc6-1530-4636-9912-776ca84c4fbb"
      },
      "execution_count": null,
      "outputs": [
        {
          "output_type": "execute_result",
          "data": {
            "text/plain": [
              "Text(0, 0.5, 'Prices ($)')"
            ]
          },
          "metadata": {},
          "execution_count": 11
        },
        {
          "output_type": "display_data",
          "data": {
            "text/plain": [
              "<Figure size 1080x576 with 1 Axes>"
            ],
            "image/png": "[encoded data removed]"
          },
          "metadata": {
            "needs_background": "light"
          }
        }
      ]
    },
    {
      "cell_type": "markdown",
      "source": [
        "Figure 2 and Figure 3, Supports the inference 2"
      ],
      "metadata": {
        "id": "9X-QEpk8venI"
      }
    },
    {
      "cell_type": "code",
      "source": [
        "plt.figure(figsize=(15, 8))\n",
        "plt.title('Stock Prices History')\n",
        "plt.boxplot(stock_data['Close'])\n",
        "plt.xlabel('Date')\n",
        "plt.ylabel('Prices ($)')"
      ],
      "metadata": {
        "colab": {
          "base_uri": "https://localhost:8080/",
          "height": 530
        },
        "id": "nappr9wRv0gi",
        "outputId": "f475c358-2f14-4b22-ed69-3a3f184468cc"
      },
      "execution_count": null,
      "outputs": [
        {
          "output_type": "execute_result",
          "data": {
            "text/plain": [
              "Text(0, 0.5, 'Prices ($)')"
            ]
          },
          "metadata": {},
          "execution_count": 12
        },
        {
          "output_type": "display_data",
          "data": {
            "text/plain": [
              "<Figure size 1080x576 with 1 Axes>"
            ],
            "image/png": "[encoded data removed]"
          },
          "metadata": {
            "needs_background": "light"
          }
        }
      ]
    },
    {
      "cell_type": "code",
      "source": [
        "stock_data = yf.download('AAPL', start='2020-01-01', end='2020-12-31')\n",
        "stock_data"
      ],
      "metadata": {
        "colab": {
          "base_uri": "https://localhost:8080/",
          "height": 472
        },
        "id": "iJf6CtJOmGZa",
        "outputId": "2cfa7e90-c137-47d2-a8b9-584755731750"
      },
      "execution_count": null,
      "outputs": [
        {
          "output_type": "stream",
          "name": "stdout",
          "text": [
            "\r[*********************100%***********************]  1 of 1 completed\n"
          ]
        },
        {
          "output_type": "execute_result",
          "data": {
            "text/plain": [
              "                                 Open        High         Low       Close  \\\n",
              "Date                                                                        \n",
              "2020-01-02 00:00:00-05:00   74.059998   75.150002   73.797501   75.087502   \n",
              "2020-01-03 00:00:00-05:00   74.287498   75.144997   74.125000   74.357498   \n",
              "2020-01-06 00:00:00-05:00   73.447502   74.989998   73.187500   74.949997   \n",
              "2020-01-07 00:00:00-05:00   74.959999   75.224998   74.370003   74.597504   \n",
              "2020-01-08 00:00:00-05:00   74.290001   76.110001   74.290001   75.797501   \n",
              "...                               ...         ...         ...         ...   \n",
              "2020-12-23 00:00:00-05:00  132.160004  132.429993  130.779999  130.960007   \n",
              "2020-12-24 00:00:00-05:00  131.320007  133.460007  131.100006  131.970001   \n",
              "2020-12-28 00:00:00-05:00  133.990005  137.339996  133.509995  136.690002   \n",
              "2020-12-29 00:00:00-05:00  138.050003  138.789993  134.339996  134.869995   \n",
              "2020-12-30 00:00:00-05:00  135.580002  135.990005  133.399994  133.720001   \n",
              "\n",
              "                            Adj Close     Volume  \n",
              "Date                                              \n",
              "2020-01-02 00:00:00-05:00   73.683563  135480400  \n",
              "2020-01-03 00:00:00-05:00   72.967216  146322800  \n",
              "2020-01-06 00:00:00-05:00   73.548637  118387200  \n",
              "2020-01-07 00:00:00-05:00   73.202721  108872000  \n",
              "2020-01-08 00:00:00-05:00   74.380280  132079200  \n",
              "...                               ...        ...  \n",
              "2020-12-23 00:00:00-05:00  129.621216   88223700  \n",
              "2020-12-24 00:00:00-05:00  130.620911   54930100  \n",
              "2020-12-28 00:00:00-05:00  135.292664  124486200  \n",
              "2020-12-29 00:00:00-05:00  133.491241  121047300  \n",
              "2020-12-30 00:00:00-05:00  132.352997   96452100  \n",
              "\n",
              "[252 rows x 6 columns]"
            ],
            "text/html": [
              "\n",
              "  <div id=\"df-f6b0f264-bc84-481f-82ed-94c1cf9d8c01\">\n",
              "    <div class=\"colab-df-container\">\n",
              "      <div>\n",
              "<style scoped>\n",
              "    .dataframe tbody tr th:only-of-type {\n",
              "        vertical-align: middle;\n",
              "    }\n",
              "\n",
              "    .dataframe tbody tr th {\n",
              "        vertical-align: top;\n",
              "    }\n",
              "\n",
              "    .dataframe thead th {\n",
              "        text-align: right;\n",
              "    }\n",
              "</style>\n",
              "<table border=\"1\" class=\"dataframe\">\n",
              "  <thead>\n",
              "    <tr style=\"text-align: right;\">\n",
              "      <th></th>\n",
              "      <th>Open</th>\n",
              "      <th>High</th>\n",
              "      <th>Low</th>\n",
              "      <th>Close</th>\n",
              "      <th>Adj Close</th>\n",
              "      <th>Volume</th>\n",
              "    </tr>\n",
              "    <tr>\n",
              "      <th>Date</th>\n",
              "      <th></th>\n",
              "      <th></th>\n",
              "      <th></th>\n",
              "      <th></th>\n",
              "      <th></th>\n",
              "      <th></th>\n",
              "    </tr>\n",
              "  </thead>\n",
              "  <tbody>\n",
              "    <tr>\n",
              "      <th>2020-01-02 00:00:00-05:00</th>\n",
              "      <td>74.059998</td>\n",
              "      <td>75.150002</td>\n",
              "      <td>73.797501</td>\n",
              "      <td>75.087502</td>\n",
              "      <td>73.683563</td>\n",
              "      <td>135480400</td>\n",
              "    </tr>\n",
              "    <tr>\n",
              "      <th>2020-01-03 00:00:00-05:00</th>\n",
              "      <td>74.287498</td>\n",
              "      <td>75.144997</td>\n",
              "      <td>74.125000</td>\n",
              "      <td>74.357498</td>\n",
              "      <td>72.967216</td>\n",
              "      <td>146322800</td>\n",
              "    </tr>\n",
              "    <tr>\n",
              "      <th>2020-01-06 00:00:00-05:00</th>\n",
              "      <td>73.447502</td>\n",
              "      <td>74.989998</td>\n",
              "      <td>73.187500</td>\n",
              "      <td>74.949997</td>\n",
              "      <td>73.548637</td>\n",
              "      <td>118387200</td>\n",
              "    </tr>\n",
              "    <tr>\n",
              "      <th>2020-01-07 00:00:00-05:00</th>\n",
              "      <td>74.959999</td>\n",
              "      <td>75.224998</td>\n",
              "      <td>74.370003</td>\n",
              "      <td>74.597504</td>\n",
              "      <td>73.202721</td>\n",
              "      <td>108872000</td>\n",
              "    </tr>\n",
              "    <tr>\n",
              "      <th>2020-01-08 00:00:00-05:00</th>\n",
              "      <td>74.290001</td>\n",
              "      <td>76.110001</td>\n",
              "      <td>74.290001</td>\n",
              "      <td>75.797501</td>\n",
              "      <td>74.380280</td>\n",
              "      <td>132079200</td>\n",
              "    </tr>\n",
              "    <tr>\n",
              "      <th>...</th>\n",
              "      <td>...</td>\n",
              "      <td>...</td>\n",
              "      <td>...</td>\n",
              "      <td>...</td>\n",
              "      <td>...</td>\n",
              "      <td>...</td>\n",
              "    </tr>\n",
              "    <tr>\n",
              "      <th>2020-12-23 00:00:00-05:00</th>\n",
              "      <td>132.160004</td>\n",
              "      <td>132.429993</td>\n",
              "      <td>130.779999</td>\n",
              "      <td>130.960007</td>\n",
              "      <td>129.621216</td>\n",
              "      <td>88223700</td>\n",
              "    </tr>\n",
              "    <tr>\n",
              "      <th>2020-12-24 00:00:00-05:00</th>\n",
              "      <td>131.320007</td>\n",
              "      <td>133.460007</td>\n",
              "      <td>131.100006</td>\n",
              "      <td>131.970001</td>\n",
              "      <td>130.620911</td>\n",
              "      <td>54930100</td>\n",
              "    </tr>\n",
              "    <tr>\n",
              "      <th>2020-12-28 00:00:00-05:00</th>\n",
              "      <td>133.990005</td>\n",
              "      <td>137.339996</td>\n",
              "      <td>133.509995</td>\n",
              "      <td>136.690002</td>\n",
              "      <td>135.292664</td>\n",
              "      <td>124486200</td>\n",
              "    </tr>\n",
              "    <tr>\n",
              "      <th>2020-12-29 00:00:00-05:00</th>\n",
              "      <td>138.050003</td>\n",
              "      <td>138.789993</td>\n",
              "      <td>134.339996</td>\n",
              "      <td>134.869995</td>\n",
              "      <td>133.491241</td>\n",
              "      <td>121047300</td>\n",
              "    </tr>\n",
              "    <tr>\n",
              "      <th>2020-12-30 00:00:00-05:00</th>\n",
              "      <td>135.580002</td>\n",
              "      <td>135.990005</td>\n",
              "      <td>133.399994</td>\n",
              "      <td>133.720001</td>\n",
              "      <td>132.352997</td>\n",
              "      <td>96452100</td>\n",
              "    </tr>\n",
              "  </tbody>\n",
              "</table>\n",
              "<p>252 rows × 6 columns</p>\n",
              "</div>\n",
              "      <button class=\"colab-df-convert\" onclick=\"convertToInteractive('df-f6b0f264-bc84-481f-82ed-94c1cf9d8c01')\"\n",
              "              title=\"Convert this dataframe to an interactive table.\"\n",
              "              style=\"display:none;\">\n",
              "        \n",
              "  <svg xmlns=\"http://www.w3.org/2000/svg\" height=\"24px\"viewBox=\"0 0 24 24\"\n",
              "       width=\"24px\">\n",
              "    <path d=\"M0 0h24v24H0V0z\" fill=\"none\"/>\n",
              "    <path d=\"M18.56 5.44l.94 2.06.94-2.06 2.06-.94-2.06-.94-.94-2.06-.94 2.06-2.06.94zm-11 1L8.5 8.5l.94-2.06 2.06-.94-2.06-.94L8.5 2.5l-.94 2.06-2.06.94zm10 10l.94 2.06.94-2.06 2.06-.94-2.06-.94-.94-2.06-.94 2.06-2.06.94z\"/><path d=\"M17.41 7.96l-1.37-1.37c-.4-.4-.92-.59-1.43-.59-.52 0-1.04.2-1.43.59L10.3 9.45l-7.72 7.72c-.78.78-.78 2.05 0 2.83L4 21.41c.39.39.9.59 1.41.59.51 0 1.02-.2 1.41-.59l7.78-7.78 2.81-2.81c.8-.78.8-2.07 0-2.86zM5.41 20L4 18.59l7.72-7.72 1.47 1.35L5.41 20z\"/>\n",
              "  </svg>\n",
              "      </button>\n",
              "      \n",
              "  <style>\n",
              "    .colab-df-container {\n",
              "      display:flex;\n",
              "      flex-wrap:wrap;\n",
              "      gap: 12px;\n",
              "    }\n",
              "\n",
              "    .colab-df-convert {\n",
              "      background-color: #E8F0FE;\n",
              "      border: none;\n",
              "      border-radius: 50%;\n",
              "      cursor: pointer;\n",
              "      display: none;\n",
              "      fill: #1967D2;\n",
              "      height: 32px;\n",
              "      padding: 0 0 0 0;\n",
              "      width: 32px;\n",
              "    }\n",
              "\n",
              "    .colab-df-convert:hover {\n",
              "      background-color: #E2EBFA;\n",
              "      box-shadow: 0px 1px 2px rgba(60, 64, 67, 0.3), 0px 1px 3px 1px rgba(60, 64, 67, 0.15);\n",
              "      fill: #174EA6;\n",
              "    }\n",
              "\n",
              "    [theme=dark] .colab-df-convert {\n",
              "      background-color: #3B4455;\n",
              "      fill: #D2E3FC;\n",
              "    }\n",
              "\n",
              "    [theme=dark] .colab-df-convert:hover {\n",
              "      background-color: #434B5C;\n",
              "      box-shadow: 0px 1px 3px 1px rgba(0, 0, 0, 0.15);\n",
              "      filter: drop-shadow(0px 1px 2px rgba(0, 0, 0, 0.3));\n",
              "      fill: #FFFFFF;\n",
              "    }\n",
              "  </style>\n",
              "\n",
              "      <script>\n",
              "        const buttonEl =\n",
              "          document.querySelector('#df-f6b0f264-bc84-481f-82ed-94c1cf9d8c01 button.colab-df-convert');\n",
              "        buttonEl.style.display =\n",
              "          google.colab.kernel.accessAllowed ? 'block' : 'none';\n",
              "\n",
              "        async function convertToInteractive(key) {\n",
              "          const element = document.querySelector('#df-f6b0f264-bc84-481f-82ed-94c1cf9d8c01');\n",
              "          const dataTable =\n",
              "            await google.colab.kernel.invokeFunction('convertToInteractive',\n",
              "                                                     [key], {});\n",
              "          if (!dataTable) return;\n",
              "\n",
              "          const docLinkHtml = 'Like what you see? Visit the ' +\n",
              "            '<a target=\"_blank\" href=https://colab.research.google.com/notebooks/data_table.ipynb>data table notebook</a>'\n",
              "            + ' to learn more about interactive tables.';\n",
              "          element.innerHTML = '';\n",
              "          dataTable['output_type'] = 'display_data';\n",
              "          await google.colab.output.renderOutput(dataTable, element);\n",
              "          const docLink = document.createElement('div');\n",
              "          docLink.innerHTML = docLinkHtml;\n",
              "          element.appendChild(docLink);\n",
              "        }\n",
              "      </script>\n",
              "    </div>\n",
              "  </div>\n",
              "  "
            ]
          },
          "metadata": {},
          "execution_count": 13
        }
      ]
    },
    {
      "cell_type": "code",
      "source": [
        "plt.figure(figsize=(15, 8))\n",
        "plt.title('Stock Prices History')\n",
        "plt.plot(stock_data['Close'])\n",
        "plt.xlabel('Date')\n",
        "plt.ylabel('Prices ($)')"
      ],
      "metadata": {
        "colab": {
          "base_uri": "https://localhost:8080/",
          "height": 530
        },
        "id": "kOMqM_hTuMT6",
        "outputId": "3f898efb-593f-4cba-8a96-7f43fd46bad4"
      },
      "execution_count": null,
      "outputs": [
        {
          "output_type": "execute_result",
          "data": {
            "text/plain": [
              "Text(0, 0.5, 'Prices ($)')"
            ]
          },
          "metadata": {},
          "execution_count": 14
        },
        {
          "output_type": "display_data",
          "data": {
            "text/plain": [
              "<Figure size 1080x576 with 1 Axes>"
            ],
            "image/png": "[encoded data removed]"
          },
          "metadata": {
            "needs_background": "light"
          }
        }
      ]
    },
    {
      "cell_type": "code",
      "source": [
        "plt.figure(figsize=(15, 8))\n",
        "plt.title('Stock Prices History')\n",
        "plt.boxplot(stock_data['Close'])\n",
        "plt.xlabel('Date')\n",
        "plt.ylabel('Prices ($)')"
      ],
      "metadata": {
        "colab": {
          "base_uri": "https://localhost:8080/",
          "height": 530
        },
        "id": "PDr993t9v8lo",
        "outputId": "a79b6cde-0921-4652-d8fa-908ab7933a68"
      },
      "execution_count": null,
      "outputs": [
        {
          "output_type": "execute_result",
          "data": {
            "text/plain": [
              "Text(0, 0.5, 'Prices ($)')"
            ]
          },
          "metadata": {},
          "execution_count": 15
        },
        {
          "output_type": "display_data",
          "data": {
            "text/plain": [
              "<Figure size 1080x576 with 1 Axes>"
            ],
            "image/png": "[encoded data removed]"
          },
          "metadata": {
            "needs_background": "light"
          }
        }
      ]
    },
    {
      "cell_type": "markdown",
      "source": [
        "When lockdown was implemented, there was a sudden drop in stock prices because of companies shutting down but after some time, prices started to increase as more and more people got financially eduacated during lockdown and started investing."
      ],
      "metadata": {
        "id": "r-sxnCKJuSSZ"
      }
    },
    {
      "cell_type": "markdown",
      "source": [
        "2019 - Average price 45 <br>\n",
        "2019 - Average price 50 <br>\n",
        "2020 - Average pirce 90 <br>"
      ],
      "metadata": {
        "id": "0sKkCtBrwAWo"
      }
    }
  ]
}